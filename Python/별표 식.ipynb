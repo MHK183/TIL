{
 "cells": [
  {
   "cell_type": "markdown",
   "source": [
    "#### 별표식 사용과 언패킹"
   ],
   "metadata": {
    "collapsed": false
   },
   "id": "af3cfa8f3adae73a"
  },
  {
   "cell_type": "code",
   "execution_count": 1,
   "outputs": [
    {
     "name": "stdout",
     "output_type": "stream",
     "text": [
      "first: 3\n",
      "*middle: [6, 2, 7, 100, 40, 55]\n",
      "last: 67\n"
     ]
    }
   ],
   "source": [
    "arr = [3, 6, 2, 7, 100, 40, 55, 67]\n",
    "\n",
    "first, *middle, last = arr\n",
    "print(f'first: {first}')\n",
    "print(f'*middle: {middle}')\n",
    "print(f'last: {last}')"
   ],
   "metadata": {
    "collapsed": false,
    "ExecuteTime": {
     "end_time": "2023-10-06T00:17:45.692700100Z",
     "start_time": "2023-10-06T00:17:45.609145900Z"
    }
   },
   "id": "8991b9e194e2d0f5"
  }
 ],
 "metadata": {
  "kernelspec": {
   "display_name": "Python 3",
   "language": "python",
   "name": "python3"
  },
  "language_info": {
   "codemirror_mode": {
    "name": "ipython",
    "version": 2
   },
   "file_extension": ".py",
   "mimetype": "text/x-python",
   "name": "python",
   "nbconvert_exporter": "python",
   "pygments_lexer": "ipython2",
   "version": "2.7.6"
  }
 },
 "nbformat": 4,
 "nbformat_minor": 5
}
