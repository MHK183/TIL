{
 "cells": [
  {
   "cell_type": "markdown",
   "source": [
    "### 게터와 세터"
   ],
   "metadata": {
    "collapsed": false
   },
   "id": "293b34bc18278391"
  },
  {
   "cell_type": "code",
   "execution_count": 1,
   "outputs": [],
   "source": [
    "class Person:\n",
    "    def __init__(self):\n",
    "        self.__name = None \n",
    "        self.__age = None\n",
    "        \n",
    "    @property\n",
    "    def name(self):\n",
    "        return self.__name\n",
    "    \n",
    "    @name.setter\n",
    "    def name(self, value):\n",
    "        if not value:\n",
    "            raise ValueError(\"이름은 비어 있을 수 없습니다.\")\n",
    "        self.__name = value\n",
    "        \n",
    "    @property\n",
    "    def age(self):\n",
    "        return self.__age\n",
    "    \n",
    "    @age.setter\n",
    "    def age(self, value):\n",
    "        if value < 0:\n",
    "            raise ValueError(\"나이가 음수가 될 수 없습니다.\")\n",
    "        self.__age = value"
   ],
   "metadata": {
    "collapsed": false,
    "ExecuteTime": {
     "end_time": "2024-03-20T08:59:45.505310400Z",
     "start_time": "2024-03-20T08:59:45.489310100Z"
    }
   },
   "id": "e76a72729628241b"
  },
  {
   "cell_type": "code",
   "execution_count": 3,
   "outputs": [
    {
     "name": "stdout",
     "output_type": "stream",
     "text": [
      "민혁\n",
      "29\n"
     ]
    }
   ],
   "source": [
    "person1 = Person()\n",
    "\n",
    "# 객체 속성 접근\n",
    "person1.name = '민혁'\n",
    "person1.age = 29\n",
    "\n",
    "print(person1.name)\n",
    "print(person1.age)"
   ],
   "metadata": {
    "collapsed": false,
    "ExecuteTime": {
     "end_time": "2024-03-20T09:00:49.640698600Z",
     "start_time": "2024-03-20T09:00:49.616705600Z"
    }
   },
   "id": "c2a9633ab514b0b5"
  },
  {
   "cell_type": "code",
   "execution_count": null,
   "outputs": [],
   "source": [],
   "metadata": {
    "collapsed": false
   },
   "id": "ae1c772a89fd2747"
  }
 ],
 "metadata": {
  "kernelspec": {
   "display_name": "Python 3",
   "language": "python",
   "name": "python3"
  },
  "language_info": {
   "codemirror_mode": {
    "name": "ipython",
    "version": 2
   },
   "file_extension": ".py",
   "mimetype": "text/x-python",
   "name": "python",
   "nbconvert_exporter": "python",
   "pygments_lexer": "ipython2",
   "version": "2.7.6"
  }
 },
 "nbformat": 4,
 "nbformat_minor": 5
}
